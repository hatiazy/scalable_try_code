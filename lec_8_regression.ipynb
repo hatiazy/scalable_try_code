{
 "cells": [
  {
   "cell_type": "markdown",
   "id": "bc7d345f",
   "metadata": {},
   "source": [
    "#### regression"
   ]
  },
  {
   "cell_type": "code",
   "execution_count": null,
   "id": "7191c69e",
   "metadata": {},
   "outputs": [
    {
     "name": "stderr",
     "output_type": "stream",
     "text": [
      "25/10/07 21:16:24 WARN Instrumentation: [2071894b] regParam is zero, which might cause numerical instability and overfitting.\n",
      "25/10/07 21:16:24 WARN InstanceBuilder: Failed to load implementation from:dev.ludovic.netlib.blas.JNIBLAS\n",
      "25/10/07 21:16:24 WARN InstanceBuilder: Failed to load implementation from:dev.ludovic.netlib.lapack.JNILAPACK\n",
      "25/10/07 21:16:26 WARN Instrumentation: [2fd36b53] regParam is zero, which might cause numerical instability and overfitting.\n",
      "25/10/07 21:16:27 WARN Instrumentation: [80610d62] regParam is zero, which might cause numerical instability and overfitting.\n",
      "25/10/07 21:16:28 WARN Instrumentation: [f72c9d9a] regParam is zero, which might cause numerical instability and overfitting.\n",
      "25/10/07 21:16:29 WARN Instrumentation: [20564c99] regParam is zero, which might cause numerical instability and overfitting.\n"
     ]
    },
    {
     "name": "stdout",
     "output_type": "stream",
     "text": [
      "训练集 RMSE: 0.7249646889209516\n",
      "测试集 RMSE: 0.7232588285989255\n"
     ]
    }
   ],
   "source": [
    "from pyspark.sql import SparkSession\n",
    "spark = SparkSession.builder.appName(\"CA_Housing_builtin\").getOrCreate()\n",
    "\n",
    "import pandas as pd\n",
    "from sklearn.datasets import fetch_california_housing\n",
    "cal = fetch_california_housing()   \n",
    "pdf = pd.DataFrame(cal.data, columns=cal.feature_names)\n",
    "pdf['medianHouseValue'] = cal.target    \n",
    "\n",
    "housing = spark.createDataFrame(pdf)\n",
    "\n",
    "housing = housing.na.drop(how=\"any\")\n",
    "\n",
    "from pyspark.ml.feature import RFormula\n",
    "rf = RFormula(formula=\"medianHouseValue ~ .\")\n",
    "\n",
    "from pyspark.ml.regression import LinearRegression\n",
    "lr = LinearRegression()\n",
    "\n",
    "from pyspark.ml import Pipeline\n",
    "pipeline = Pipeline(stages=[rf, lr])\n",
    "\n",
    "from pyspark.ml.evaluation import RegressionEvaluator\n",
    "evaluator = RegressionEvaluator(metricName=\"rmse\") \n",
    "\n",
    "from pyspark.ml.tuning import ParamGridBuilder, CrossValidator\n",
    "params = ParamGridBuilder().addGrid(lr.regParam, [0, 0.1, 0.2]).build()\n",
    "cv = CrossValidator(estimator=pipeline,\n",
    "                    estimatorParamMaps=params,\n",
    "                    evaluator=evaluator,\n",
    "                    numFolds=4)\n",
    "\n",
    "train, test = housing.randomSplit([0.7, 0.3])\n",
    "model = cv.fit(train)\n",
    "\n",
    "print(\"训练集 RMSE:\", evaluator.evaluate(model.transform(train)))\n",
    "print(\"测试集 RMSE:\", evaluator.evaluate(model.transform(test)))"
   ]
  }
 ],
 "metadata": {
  "kernelspec": {
   "display_name": "course",
   "language": "python",
   "name": "python3"
  },
  "language_info": {
   "codemirror_mode": {
    "name": "ipython",
    "version": 3
   },
   "file_extension": ".py",
   "mimetype": "text/x-python",
   "name": "python",
   "nbconvert_exporter": "python",
   "pygments_lexer": "ipython3",
   "version": "3.8.18"
  }
 },
 "nbformat": 4,
 "nbformat_minor": 5
}
