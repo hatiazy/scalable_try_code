{
 "cells": [
  {
   "cell_type": "code",
   "execution_count": 3,
   "id": "428ce64d",
   "metadata": {},
   "outputs": [],
   "source": [
    "from pyspark.sql import SparkSession\n",
    "spark = SparkSession.builder \\\n",
    "        .appName(\"CatDogImage\") \\\n",
    "        .config(\"spark.sql.execution.arrow.pyspark.enabled\", \"true\") \\\n",
    "        .getOrCreate()"
   ]
  },
  {
   "cell_type": "code",
   "execution_count": 4,
   "id": "3f129cbe",
   "metadata": {},
   "outputs": [],
   "source": [
    "folder_cat = \"PetImages/Cat\"\n",
    "folder_dog = \"PetImages/Dog\"\n",
    "df_cat = spark.read.format(\"image\").option(\"dropInvalid\", True).load(folder_cat)\n",
    "df_dog = spark.read.format(\"image\").option(\"dropInvalid\", True).load(folder_dog)\n",
    "df = df_cat.union(df_dog)"
   ]
  },
  {
   "cell_type": "code",
   "execution_count": 5,
   "id": "9f217fe6",
   "metadata": {},
   "outputs": [
    {
     "name": "stderr",
     "output_type": "stream",
     "text": [
      "[Stage 0:>                                                          (0 + 1) / 1]\r"
     ]
    },
    {
     "name": "stdout",
     "output_type": "stream",
     "text": [
      "+-------------------------------------------------------------------+-----+------+\n",
      "|origin                                                             |width|height|\n",
      "+-------------------------------------------------------------------+-----+------+\n",
      "|file:///Users/hzy/Desktop/nus/5208/code_try/PetImages/Cat/10073.jpg|498  |479   |\n",
      "|file:///Users/hzy/Desktop/nus/5208/code_try/PetImages/Cat/8767.jpg |388  |471   |\n",
      "|file:///Users/hzy/Desktop/nus/5208/code_try/PetImages/Cat/7597.jpg |298  |374   |\n",
      "|file:///Users/hzy/Desktop/nus/5208/code_try/PetImages/Cat/11083.jpg|480  |469   |\n",
      "|file:///Users/hzy/Desktop/nus/5208/code_try/PetImages/Cat/5614.jpg |490  |422   |\n",
      "|file:///Users/hzy/Desktop/nus/5208/code_try/PetImages/Cat/7502.jpg |429  |475   |\n",
      "|file:///Users/hzy/Desktop/nus/5208/code_try/PetImages/Cat/7845.jpg |496  |372   |\n",
      "|file:///Users/hzy/Desktop/nus/5208/code_try/PetImages/Cat/4929.jpg |386  |459   |\n",
      "|file:///Users/hzy/Desktop/nus/5208/code_try/PetImages/Cat/3967.jpg |480  |360   |\n",
      "|file:///Users/hzy/Desktop/nus/5208/code_try/PetImages/Cat/6980.jpg |480  |360   |\n",
      "|file:///Users/hzy/Desktop/nus/5208/code_try/PetImages/Cat/2021.jpg |480  |360   |\n",
      "|file:///Users/hzy/Desktop/nus/5208/code_try/PetImages/Cat/4750.jpg |480  |360   |\n",
      "|file:///Users/hzy/Desktop/nus/5208/code_try/PetImages/Cat/3649.jpg |352  |462   |\n",
      "|file:///Users/hzy/Desktop/nus/5208/code_try/PetImages/Cat/12235.jpg|459  |337   |\n",
      "|file:///Users/hzy/Desktop/nus/5208/code_try/PetImages/Cat/11086.jpg|333  |415   |\n",
      "|file:///Users/hzy/Desktop/nus/5208/code_try/PetImages/Cat/9361.jpg |380  |345   |\n",
      "|file:///Users/hzy/Desktop/nus/5208/code_try/PetImages/Cat/3197.jpg |372  |352   |\n",
      "|file:///Users/hzy/Desktop/nus/5208/code_try/PetImages/Cat/9619.jpg |400  |300   |\n",
      "|file:///Users/hzy/Desktop/nus/5208/code_try/PetImages/Cat/445.jpg  |400  |300   |\n",
      "|file:///Users/hzy/Desktop/nus/5208/code_try/PetImages/Cat/8183.jpg |400  |300   |\n",
      "+-------------------------------------------------------------------+-----+------+\n",
      "only showing top 20 rows\n",
      "\n"
     ]
    },
    {
     "name": "stderr",
     "output_type": "stream",
     "text": [
      "                                                                                \r"
     ]
    }
   ],
   "source": [
    "df.select(\"image.origin\", \"image.width\", \"image.height\").show(truncate=False)"
   ]
  },
  {
   "cell_type": "code",
   "execution_count": 7,
   "id": "89b37a72",
   "metadata": {},
   "outputs": [],
   "source": [
    "import cv2\n",
    "def standardize_channels(img, n_channels):\n",
    "    if n_channels == 1:\n",
    "        return cv2.cvtColor(img, cv2.COLOR_GRAY2BGR)\n",
    "    elif n_channels == 4:\n",
    "        return cv2.cvtColor(img, cv2.COLOR_BGRA2BGR)\n",
    "    else:\n",
    "        return img"
   ]
  },
  {
   "cell_type": "code",
   "execution_count": 8,
   "id": "47671085",
   "metadata": {},
   "outputs": [],
   "source": [
    "from pyspark.sql.functions import udf\n",
    "import numpy as np\n",
    "from pyspark.ml.linalg import Vectors, VectorUDT\n",
    "imageUdf = udf(lambda img:\n",
    "               Vectors.dense(standardize_channels(cv2.resize(\n",
    "                   np.frombuffer(img.data, dtype = np.uint8).\n",
    "                   reshape((img.height, img.width, img.nChannels)), (32,32)\n",
    "                   ), img.nChannels).flatten().tolist()), VectorUDT())"
   ]
  },
  {
   "cell_type": "code",
   "execution_count": 9,
   "id": "6d7bf236",
   "metadata": {},
   "outputs": [],
   "source": [
    "df = df.withColumn(\"features\", imageUdf(df.image))"
   ]
  },
  {
   "cell_type": "code",
   "execution_count": 11,
   "id": "11fcf98c",
   "metadata": {},
   "outputs": [
    {
     "name": "stdout",
     "output_type": "stream",
     "text": [
      "root\n",
      " |-- image: struct (nullable = true)\n",
      " |    |-- origin: string (nullable = true)\n",
      " |    |-- height: integer (nullable = true)\n",
      " |    |-- width: integer (nullable = true)\n",
      " |    |-- nChannels: integer (nullable = true)\n",
      " |    |-- mode: integer (nullable = true)\n",
      " |    |-- data: binary (nullable = true)\n",
      " |-- features: vector (nullable = true)\n",
      "\n"
     ]
    }
   ],
   "source": [
    "df.printSchema()"
   ]
  },
  {
   "cell_type": "code",
   "execution_count": 10,
   "id": "cf767e6d",
   "metadata": {},
   "outputs": [
    {
     "name": "stderr",
     "output_type": "stream",
     "text": [
      "                                                                                \r"
     ]
    },
    {
     "name": "stdout",
     "output_type": "stream",
     "text": [
      "+--------------------+--------------------+\n",
      "|               image|            features|\n",
      "+--------------------+--------------------+\n",
      "|{file:///Users/hz...|[255.0,255.0,255....|\n",
      "|{file:///Users/hz...|[13.0,33.0,40.0,1...|\n",
      "|{file:///Users/hz...|[0.0,21.0,20.0,46...|\n",
      "|{file:///Users/hz...|[26.0,28.0,28.0,6...|\n",
      "|{file:///Users/hz...|[87.0,92.0,110.0,...|\n",
      "|{file:///Users/hz...|[148.0,168.0,152....|\n",
      "|{file:///Users/hz...|[73.0,81.0,95.0,1...|\n",
      "|{file:///Users/hz...|[23.0,133.0,199.0...|\n",
      "|{file:///Users/hz...|[36.0,62.0,69.0,1...|\n",
      "|{file:///Users/hz...|[85.0,93.0,110.0,...|\n",
      "|{file:///Users/hz...|[92.0,89.0,74.0,1...|\n",
      "|{file:///Users/hz...|[18.0,25.0,58.0,5...|\n",
      "|{file:///Users/hz...|[255.0,255.0,255....|\n",
      "|{file:///Users/hz...|[156.0,166.0,188....|\n",
      "|{file:///Users/hz...|[96.0,122.0,160.0...|\n",
      "|{file:///Users/hz...|[87.0,147.0,196.0...|\n",
      "|{file:///Users/hz...|[41.0,100.0,126.0...|\n",
      "|{file:///Users/hz...|[48.0,45.0,40.0,3...|\n",
      "|{file:///Users/hz...|[168.0,213.0,206....|\n",
      "|{file:///Users/hz...|[172.0,155.0,131....|\n",
      "+--------------------+--------------------+\n",
      "only showing top 20 rows\n",
      "\n"
     ]
    }
   ],
   "source": [
    "df.show()"
   ]
  }
 ],
 "metadata": {
  "kernelspec": {
   "display_name": "course",
   "language": "python",
   "name": "python3"
  },
  "language_info": {
   "codemirror_mode": {
    "name": "ipython",
    "version": 3
   },
   "file_extension": ".py",
   "mimetype": "text/x-python",
   "name": "python",
   "nbconvert_exporter": "python",
   "pygments_lexer": "ipython3",
   "version": "3.8.18"
  }
 },
 "nbformat": 4,
 "nbformat_minor": 5
}
