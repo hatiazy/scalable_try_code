{
 "cells": [
  {
   "cell_type": "code",
   "execution_count": 1,
   "id": "72fc0490",
   "metadata": {},
   "outputs": [
    {
     "name": "stderr",
     "output_type": "stream",
     "text": [
      "25/10/07 20:47:26 WARN Utils: Your hostname, huawei-matebook14.local resolves to a loopback address: 127.0.0.1; using 10.249.10.205 instead (on interface en0)\n",
      "25/10/07 20:47:26 WARN Utils: Set SPARK_LOCAL_IP if you need to bind to another address\n",
      "Setting default log level to \"WARN\".\n",
      "To adjust logging level use sc.setLogLevel(newLevel). For SparkR, use setLogLevel(newLevel).\n",
      "25/10/07 20:47:27 WARN NativeCodeLoader: Unable to load native-hadoop library for your platform... using builtin-java classes where applicable\n"
     ]
    },
    {
     "name": "stdout",
     "output_type": "stream",
     "text": [
      "+-----------------+----------------+-----------------+----------------+-------+\n",
      "|sepal length (cm)|sepal width (cm)|petal length (cm)|petal width (cm)|species|\n",
      "+-----------------+----------------+-----------------+----------------+-------+\n",
      "|              5.1|             3.5|              1.4|             0.2| setosa|\n",
      "|              4.9|             3.0|              1.4|             0.2| setosa|\n",
      "|              4.7|             3.2|              1.3|             0.2| setosa|\n",
      "|              4.6|             3.1|              1.5|             0.2| setosa|\n",
      "|              5.0|             3.6|              1.4|             0.2| setosa|\n",
      "+-----------------+----------------+-----------------+----------------+-------+\n",
      "only showing top 5 rows\n",
      "\n",
      "root\n",
      " |-- sepal length (cm): double (nullable = true)\n",
      " |-- sepal width (cm): double (nullable = true)\n",
      " |-- petal length (cm): double (nullable = true)\n",
      " |-- petal width (cm): double (nullable = true)\n",
      " |-- species: string (nullable = true)\n",
      "\n"
     ]
    }
   ],
   "source": [
    "from sklearn.datasets import load_iris\n",
    "import pandas as pd\n",
    "from pyspark.sql import SparkSession\n",
    "\n",
    "spark = SparkSession.builder.appName(\"IrisFromSklearn\").getOrCreate()\n",
    "\n",
    "iris_sk = load_iris()\n",
    "pdf = pd.DataFrame(iris_sk.data, columns=iris_sk.feature_names)\n",
    "pdf['species'] = pd.Categorical.from_codes(iris_sk.target, iris_sk.target_names)\n",
    "\n",
    "# Spark DataFrame\n",
    "iris = spark.createDataFrame(pdf)\n",
    "\n",
    "iris.show(5)\n",
    "iris.printSchema()"
   ]
  },
  {
   "cell_type": "code",
   "execution_count": 2,
   "id": "d208b6da",
   "metadata": {},
   "outputs": [],
   "source": [
    "iris = iris.withColumnRenamed(\"sepal length (cm)\", \"sepal_length\") \\\n",
    "           .withColumnRenamed(\"sepal width (cm)\", \"sepal_width\") \\\n",
    "           .withColumnRenamed(\"petal length (cm)\", \"petal_length\") \\\n",
    "           .withColumnRenamed(\"petal width (cm)\", \"petal_width\")"
   ]
  },
  {
   "cell_type": "code",
   "execution_count": 3,
   "id": "a1c0ec68",
   "metadata": {},
   "outputs": [
    {
     "name": "stdout",
     "output_type": "stream",
     "text": [
      "+------------+-----------+------------+-----------+----------+\n",
      "|sepal_length|sepal_width|petal_length|petal_width|   species|\n",
      "+------------+-----------+------------+-----------+----------+\n",
      "|         4.9|        3.0|         1.4|        0.2|    setosa|\n",
      "|         4.7|        3.2|         1.3|        0.2|    setosa|\n",
      "|         4.9|        3.1|         1.5|        0.1|    setosa|\n",
      "|         5.1|        3.5|         1.4|        0.3|    setosa|\n",
      "|         5.1|        3.8|         1.5|        0.3|    setosa|\n",
      "|         4.8|        3.1|         1.6|        0.2|    setosa|\n",
      "|         5.5|        2.3|         4.0|        1.3|versicolor|\n",
      "|         6.3|        3.3|         4.7|        1.6|versicolor|\n",
      "|         4.9|        2.4|         3.3|        1.0|versicolor|\n",
      "|         6.0|        2.2|         4.0|        1.0|versicolor|\n",
      "|         6.6|        3.0|         4.4|        1.4|versicolor|\n",
      "|         6.5|        3.2|         5.1|        2.0| virginica|\n",
      "|         6.4|        2.7|         5.3|        1.9| virginica|\n",
      "|         6.8|        3.0|         5.5|        2.1| virginica|\n",
      "|         6.9|        3.1|         5.4|        2.1| virginica|\n",
      "+------------+-----------+------------+-----------+----------+\n",
      "\n"
     ]
    }
   ],
   "source": [
    "iris.sample(0.1).show()"
   ]
  },
  {
   "cell_type": "markdown",
   "id": "7925442d",
   "metadata": {},
   "source": [
    "#### basic example of classification"
   ]
  },
  {
   "cell_type": "code",
   "execution_count": 4,
   "id": "2f0e4288",
   "metadata": {},
   "outputs": [],
   "source": [
    "from pyspark.ml.feature import VectorAssembler\n",
    "va = VectorAssembler(outputCol=\"features\").setInputCols(iris.columns[0:4])\n",
    "preparedDF = va.transform(iris)"
   ]
  },
  {
   "cell_type": "code",
   "execution_count": 5,
   "id": "86319892",
   "metadata": {},
   "outputs": [
    {
     "name": "stdout",
     "output_type": "stream",
     "text": [
      "== Physical Plan ==\n",
      "*(1) Project [sepal length (cm)#0 AS sepal_length#31, sepal width (cm)#1 AS sepal_width#37, petal length (cm)#2 AS petal_length#43, petal width (cm)#3 AS petal_width#49, species#4, UDF(struct(sepal_length, sepal length (cm)#0, sepal_width, sepal width (cm)#1, petal_length, petal length (cm)#2, petal_width, petal width (cm)#3)) AS features#77]\n",
      "+- *(1) Scan ExistingRDD[sepal length (cm)#0,sepal width (cm)#1,petal length (cm)#2,petal width (cm)#3,species#4]\n",
      "\n",
      "\n"
     ]
    }
   ],
   "source": [
    "preparedDF.explain()"
   ]
  },
  {
   "cell_type": "code",
   "execution_count": 6,
   "id": "70ed65ce",
   "metadata": {},
   "outputs": [],
   "source": [
    "from pyspark.ml.feature import StringIndexer\n",
    "str_id = StringIndexer(outputCol=\"label\").setInputCol(\"species\")\n",
    "preparedDF = str_id.fit(preparedDF).transform(preparedDF)"
   ]
  },
  {
   "cell_type": "code",
   "execution_count": 7,
   "id": "15dfd4c7",
   "metadata": {},
   "outputs": [
    {
     "name": "stdout",
     "output_type": "stream",
     "text": [
      "+------------+-----------+------------+-----------+----------+-----------------+-----+\n",
      "|sepal_length|sepal_width|petal_length|petal_width|   species|         features|label|\n",
      "+------------+-----------+------------+-----------+----------+-----------------+-----+\n",
      "|         4.9|        3.0|         1.4|        0.2|    setosa|[4.9,3.0,1.4,0.2]|  0.0|\n",
      "|         4.3|        3.0|         1.1|        0.1|    setosa|[4.3,3.0,1.1,0.1]|  0.0|\n",
      "|         5.1|        3.5|         1.4|        0.3|    setosa|[5.1,3.5,1.4,0.3]|  0.0|\n",
      "|         5.1|        3.8|         1.5|        0.3|    setosa|[5.1,3.8,1.5,0.3]|  0.0|\n",
      "|         5.4|        3.4|         1.5|        0.4|    setosa|[5.4,3.4,1.5,0.4]|  0.0|\n",
      "|         5.0|        3.2|         1.2|        0.2|    setosa|[5.0,3.2,1.2,0.2]|  0.0|\n",
      "|         5.0|        3.5|         1.3|        0.3|    setosa|[5.0,3.5,1.3,0.3]|  0.0|\n",
      "|         4.8|        3.0|         1.4|        0.3|    setosa|[4.8,3.0,1.4,0.3]|  0.0|\n",
      "|         7.0|        3.2|         4.7|        1.4|versicolor|[7.0,3.2,4.7,1.4]|  1.0|\n",
      "|         4.9|        2.4|         3.3|        1.0|versicolor|[4.9,2.4,3.3,1.0]|  1.0|\n",
      "|         6.0|        2.2|         4.0|        1.0|versicolor|[6.0,2.2,4.0,1.0]|  1.0|\n",
      "|         6.8|        2.8|         4.8|        1.4|versicolor|[6.8,2.8,4.8,1.4]|  1.0|\n",
      "|         6.1|        3.0|         4.6|        1.4|versicolor|[6.1,3.0,4.6,1.4]|  1.0|\n",
      "|         5.8|        2.6|         4.0|        1.2|versicolor|[5.8,2.6,4.0,1.2]|  1.0|\n",
      "|         7.1|        3.0|         5.9|        2.1| virginica|[7.1,3.0,5.9,2.1]|  2.0|\n",
      "|         7.2|        3.6|         6.1|        2.5| virginica|[7.2,3.6,6.1,2.5]|  2.0|\n",
      "|         7.7|        3.8|         6.7|        2.2| virginica|[7.7,3.8,6.7,2.2]|  2.0|\n",
      "|         7.7|        2.6|         6.9|        2.3| virginica|[7.7,2.6,6.9,2.3]|  2.0|\n",
      "|         6.7|        3.1|         5.6|        2.4| virginica|[6.7,3.1,5.6,2.4]|  2.0|\n",
      "|         6.8|        3.2|         5.9|        2.3| virginica|[6.8,3.2,5.9,2.3]|  2.0|\n",
      "+------------+-----------+------------+-----------+----------+-----------------+-----+\n",
      "only showing top 20 rows\n",
      "\n"
     ]
    }
   ],
   "source": [
    "preparedDF.sample(0.1).show()"
   ]
  },
  {
   "cell_type": "code",
   "execution_count": 8,
   "id": "3bd99d85",
   "metadata": {},
   "outputs": [],
   "source": [
    "train, test = preparedDF.randomSplit([.7, .3])"
   ]
  },
  {
   "cell_type": "code",
   "execution_count": 9,
   "id": "ee66f4bd",
   "metadata": {},
   "outputs": [
    {
     "name": "stdout",
     "output_type": "stream",
     "text": [
      "== Physical Plan ==\n",
      "*(1) Sample 0.7, 1.0, false, 2169386071705808269\n",
      "+- *(1) Sort [sepal_length#31 ASC NULLS FIRST, sepal_width#37 ASC NULLS FIRST, petal_length#43 ASC NULLS FIRST, petal_width#49 ASC NULLS FIRST, species#4 ASC NULLS FIRST, features#77 ASC NULLS FIRST, label#150 ASC NULLS FIRST], false, 0\n",
      "   +- *(1) Project [sepal_length#31, sepal_width#37, petal_length#43, petal_width#49, species#4, features#77, UDF(species#4) AS label#150]\n",
      "      +- *(1) Project [sepal length (cm)#0 AS sepal_length#31, sepal width (cm)#1 AS sepal_width#37, petal length (cm)#2 AS petal_length#43, petal width (cm)#3 AS petal_width#49, species#4, UDF(struct(sepal_length, sepal length (cm)#0, sepal_width, sepal width (cm)#1, petal_length, petal length (cm)#2, petal_width, petal width (cm)#3)) AS features#77]\n",
      "         +- *(1) Scan ExistingRDD[sepal length (cm)#0,sepal width (cm)#1,petal length (cm)#2,petal width (cm)#3,species#4]\n",
      "\n",
      "\n"
     ]
    }
   ],
   "source": [
    "test.explain()"
   ]
  },
  {
   "cell_type": "code",
   "execution_count": 10,
   "id": "b86b0256",
   "metadata": {},
   "outputs": [
    {
     "name": "stdout",
     "output_type": "stream",
     "text": [
      "+------------+-----------+------------+-----------+-------+-----------------+-----+\n",
      "|sepal_length|sepal_width|petal_length|petal_width|species|         features|label|\n",
      "+------------+-----------+------------+-----------+-------+-----------------+-----+\n",
      "|         4.3|        3.0|         1.1|        0.1| setosa|[4.3,3.0,1.1,0.1]|  0.0|\n",
      "|         4.4|        2.9|         1.4|        0.2| setosa|[4.4,2.9,1.4,0.2]|  0.0|\n",
      "|         4.8|        3.0|         1.4|        0.1| setosa|[4.8,3.0,1.4,0.1]|  0.0|\n",
      "|         5.4|        3.9|         1.7|        0.4| setosa|[5.4,3.9,1.7,0.4]|  0.0|\n",
      "|         4.7|        3.2|         1.6|        0.2| setosa|[4.7,3.2,1.6,0.2]|  0.0|\n",
      "+------------+-----------+------------+-----------+-------+-----------------+-----+\n",
      "only showing top 5 rows\n",
      "\n"
     ]
    }
   ],
   "source": [
    "test.show(5)"
   ]
  },
  {
   "cell_type": "code",
   "execution_count": 11,
   "id": "97abf309",
   "metadata": {},
   "outputs": [
    {
     "name": "stderr",
     "output_type": "stream",
     "text": [
      "25/10/07 20:47:33 WARN InstanceBuilder: Failed to load implementation from:dev.ludovic.netlib.blas.JNIBLAS\n"
     ]
    }
   ],
   "source": [
    "from pyspark.ml.classification import LogisticRegression\n",
    "lr = LogisticRegression().setFeaturesCol(\"features\").setLabelCol(\"label\")\n",
    "fittedLR = lr.fit(train)"
   ]
  },
  {
   "cell_type": "code",
   "execution_count": 12,
   "id": "b5d2601b",
   "metadata": {},
   "outputs": [],
   "source": [
    "pred = fittedLR.transform(test)"
   ]
  },
  {
   "cell_type": "code",
   "execution_count": 13,
   "id": "0dacdb52",
   "metadata": {},
   "outputs": [
    {
     "name": "stdout",
     "output_type": "stream",
     "text": [
      "== Physical Plan ==\n",
      "*(1) Project [sepal_length#31, sepal_width#37, petal_length#43, petal_width#49, species#4, features#77, label#150, rawPrediction#303, UDF(rawPrediction#303) AS probability#315, UDF(rawPrediction#303) AS prediction#331]\n",
      "+- *(1) Project [sepal_length#31, sepal_width#37, petal_length#43, petal_width#49, species#4, features#77, label#150, UDF(features#77) AS rawPrediction#303]\n",
      "   +- *(1) Sample 0.7, 1.0, false, 2169386071705808269\n",
      "      +- *(1) Sort [sepal_length#31 ASC NULLS FIRST, sepal_width#37 ASC NULLS FIRST, petal_length#43 ASC NULLS FIRST, petal_width#49 ASC NULLS FIRST, species#4 ASC NULLS FIRST, features#77 ASC NULLS FIRST, label#150 ASC NULLS FIRST], false, 0\n",
      "         +- *(1) Project [sepal_length#31, sepal_width#37, petal_length#43, petal_width#49, species#4, features#77, UDF(species#4) AS label#150]\n",
      "            +- *(1) Project [sepal length (cm)#0 AS sepal_length#31, sepal width (cm)#1 AS sepal_width#37, petal length (cm)#2 AS petal_length#43, petal width (cm)#3 AS petal_width#49, species#4, UDF(struct(sepal_length, sepal length (cm)#0, sepal_width, sepal width (cm)#1, petal_length, petal length (cm)#2, petal_width, petal width (cm)#3)) AS features#77]\n",
      "               +- *(1) Scan ExistingRDD[sepal length (cm)#0,sepal width (cm)#1,petal length (cm)#2,petal width (cm)#3,species#4]\n",
      "\n",
      "\n"
     ]
    }
   ],
   "source": [
    "pred.explain()"
   ]
  },
  {
   "cell_type": "code",
   "execution_count": 14,
   "id": "ff94ebd0",
   "metadata": {},
   "outputs": [
    {
     "name": "stdout",
     "output_type": "stream",
     "text": [
      "+------------+-----------+------------+-----------+----------+-----------------+-----+--------------------+--------------------+----------+\n",
      "|sepal_length|sepal_width|petal_length|petal_width|   species|         features|label|       rawPrediction|         probability|prediction|\n",
      "+------------+-----------+------------+-----------+----------+-----------------+-----+--------------------+--------------------+----------+\n",
      "|         4.3|        3.0|         1.1|        0.1|    setosa|[4.3,3.0,1.1,0.1]|  0.0|[299.054026410093...|[1.0,8.9104681304...|       0.0|\n",
      "|         4.4|        2.9|         1.4|        0.2|    setosa|[4.4,2.9,1.4,0.2]|  0.0|[261.697330785047...|[1.0,3.5555990399...|       0.0|\n",
      "|         4.8|        3.0|         1.4|        0.1|    setosa|[4.8,3.0,1.4,0.1]|  0.0|[254.719021689343...|[1.0,7.1396332721...|       0.0|\n",
      "|         5.4|        3.9|         1.7|        0.4|    setosa|[5.4,3.9,1.7,0.4]|  0.0|[236.698884526054...|[1.0,1.5995438900...|       0.0|\n",
      "|         4.7|        3.2|         1.6|        0.2|    setosa|[4.7,3.2,1.6,0.2]|  0.0|[255.248387216621...|[1.0,3.6219432062...|       0.0|\n",
      "|         5.1|        3.3|         1.7|        0.5|    setosa|[5.1,3.3,1.7,0.5]|  0.0|[202.465061826349...|[1.0,5.9598270865...|       0.0|\n",
      "|         5.2|        3.5|         1.5|        0.2|    setosa|[5.2,3.5,1.5,0.2]|  0.0|[250.621186533203...|[1.0,2.1056838811...|       0.0|\n",
      "|         5.4|        3.9|         1.3|        0.4|    setosa|[5.4,3.9,1.3,0.4]|  0.0|[255.323403357775...|[1.0,1.7651027712...|       0.0|\n",
      "|         5.7|        3.8|         1.7|        0.3|    setosa|[5.7,3.8,1.7,0.3]|  0.0|[221.738375079334...|[1.0,5.3005376302...|       0.0|\n",
      "|         5.0|        3.2|         1.2|        0.2|    setosa|[5.0,3.2,1.2,0.2]|  0.0|[255.652936690168...|[1.0,2.0569745943...|       0.0|\n",
      "|         4.8|        3.0|         1.4|        0.3|    setosa|[4.8,3.0,1.4,0.3]|  0.0|[234.144578396024...|[1.0,4.9066726373...|       0.0|\n",
      "|         5.0|        3.3|         1.4|        0.2|    setosa|[5.0,3.3,1.4,0.2]|  0.0|[253.368439009510...|[1.0,1.1600484171...|       0.0|\n",
      "|         6.3|        3.3|         4.7|        1.6|versicolor|[6.3,3.3,4.7,1.6]|  1.0|[-123.25814495751...|[1.24567506689393...|       1.0|\n",
      "|         6.5|        2.8|         4.6|        1.5|versicolor|[6.5,2.8,4.6,1.5]|  1.0|[-155.60024851772...|[1.38705969968445...|       1.0|\n",
      "|         7.0|        3.2|         4.7|        1.4|versicolor|[7.0,3.2,4.7,1.4]|  1.0|[-152.22472523514...|[3.50713124570034...|       1.0|\n",
      "|         5.6|        2.5|         3.9|        1.1|versicolor|[5.6,2.5,3.9,1.1]|  1.0|[-48.281831106661...|[2.77911158934898...|       1.0|\n",
      "|         5.9|        3.2|         4.8|        1.8|versicolor|[5.9,3.2,4.8,1.8]|  1.0|[-131.22318721640...|[6.18266749204996...|       2.0|\n",
      "|         6.1|        2.8|         4.0|        1.3|versicolor|[6.1,2.8,4.0,1.3]|  1.0|[-82.795734499258...|[2.31062882864433...|       1.0|\n",
      "|         6.1|        2.9|         4.7|        1.4|versicolor|[6.1,2.9,4.7,1.4]|  1.0|[-118.64810236622...|[3.14336421296564...|       1.0|\n",
      "|         5.4|        3.0|         4.5|        1.5|versicolor|[5.4,3.0,4.5,1.5]|  1.0|[-70.082041026080...|[2.78578455193006...|       1.0|\n",
      "+------------+-----------+------------+-----------+----------+-----------------+-----+--------------------+--------------------+----------+\n",
      "only showing top 20 rows\n",
      "\n"
     ]
    }
   ],
   "source": [
    "pred.show()"
   ]
  },
  {
   "cell_type": "code",
   "execution_count": 15,
   "id": "70fdf25a",
   "metadata": {},
   "outputs": [
    {
     "data": {
      "text/plain": [
       "1.0"
      ]
     },
     "execution_count": 15,
     "metadata": {},
     "output_type": "execute_result"
    }
   ],
   "source": [
    "from pyspark.ml.evaluation import MulticlassClassificationEvaluator\n",
    "evaluator = MulticlassClassificationEvaluator().setPredictionCol(\"prediction\").setLabelCol(\"label\")\n",
    "evaluator.evaluate(fittedLR.transform(train))"
   ]
  },
  {
   "cell_type": "code",
   "execution_count": 16,
   "id": "03b8e7f5",
   "metadata": {},
   "outputs": [
    {
     "data": {
      "text/plain": [
       "0.9325877601739669"
      ]
     },
     "execution_count": 16,
     "metadata": {},
     "output_type": "execute_result"
    }
   ],
   "source": [
    "evaluator.evaluate(fittedLR.transform(test))"
   ]
  },
  {
   "cell_type": "code",
   "execution_count": 17,
   "id": "ee73d408",
   "metadata": {},
   "outputs": [
    {
     "data": {
      "image/png": "[encoded data removed]",
      "text/plain": [
       "<Figure size 640x480 with 1 Axes>"
      ]
     },
     "metadata": {},
     "output_type": "display_data"
    }
   ],
   "source": [
    "import matplotlib.pyplot as plt\n",
    "obj_hist = fittedLR.summary.objectiveHistory\n",
    "plt.plot(obj_hist)\n",
    "plt.show()"
   ]
  },
  {
   "cell_type": "markdown",
   "id": "f24ee75e",
   "metadata": {},
   "source": [
    "#### Pipelines and hyperparameter tuning"
   ]
  },
  {
   "cell_type": "code",
   "execution_count": 18,
   "id": "130652c1",
   "metadata": {},
   "outputs": [
    {
     "name": "stdout",
     "output_type": "stream",
     "text": [
      "handleInvalid: how to handle invalid data (unseen or NULL values) in features and label column of string type. Options are 'skip' (filter out rows with invalid data), error (throw an error), or 'keep' (put invalid data in a special additional bucket, at index numLabels). (default: error)\n",
      "inputCol: input column name. (current: species)\n",
      "inputCols: input column names. (undefined)\n",
      "outputCol: output column name. (default: StringIndexer_fbb5d44ec4ab__output, current: label)\n",
      "outputCols: output column names. (undefined)\n",
      "stringOrderType: How to order labels of string column. The first label after ordering is assigned an index of 0. Supported options: frequencyDesc, frequencyAsc, alphabetDesc, alphabetAsc. Default is frequencyDesc. In case of equal frequency when under frequencyDesc/Asc, the strings are further sorted alphabetically (default: frequencyDesc)\n"
     ]
    }
   ],
   "source": [
    "print(str_id.explainParams())"
   ]
  },
  {
   "cell_type": "code",
   "execution_count": 19,
   "id": "cd891c2c",
   "metadata": {},
   "outputs": [
    {
     "name": "stdout",
     "output_type": "stream",
     "text": [
      "aggregationDepth: suggested depth for treeAggregate (>= 2). (default: 2)\n",
      "elasticNetParam: the ElasticNet mixing parameter, in range [0, 1]. For alpha = 0, the penalty is an L2 penalty. For alpha = 1, it is an L1 penalty. (default: 0.0)\n",
      "family: The name of family which is a description of the label distribution to be used in the model. Supported options: auto, binomial, multinomial (default: auto)\n",
      "featuresCol: features column name. (default: features, current: features)\n",
      "fitIntercept: whether to fit an intercept term. (default: True)\n",
      "labelCol: label column name. (default: label, current: label)\n",
      "lowerBoundsOnCoefficients: The lower bounds on coefficients if fitting under bound constrained optimization. The bound matrix must be compatible with the shape (1, number of features) for binomial regression, or (number of classes, number of features) for multinomial regression. (undefined)\n",
      "lowerBoundsOnIntercepts: The lower bounds on intercepts if fitting under bound constrained optimization. The bounds vector size must beequal with 1 for binomial regression, or the number oflasses for multinomial regression. (undefined)\n",
      "maxBlockSizeInMB: maximum memory in MB for stacking input data into blocks. Data is stacked within partitions. If more than remaining data size in a partition then it is adjusted to the data size. Default 0.0 represents choosing optimal value, depends on specific algorithm. Must be >= 0. (default: 0.0)\n",
      "maxIter: max number of iterations (>= 0). (default: 100)\n",
      "predictionCol: prediction column name. (default: prediction)\n",
      "probabilityCol: Column name for predicted class conditional probabilities. Note: Not all models output well-calibrated probability estimates! These probabilities should be treated as confidences, not precise probabilities. (default: probability)\n",
      "rawPredictionCol: raw prediction (a.k.a. confidence) column name. (default: rawPrediction)\n",
      "regParam: regularization parameter (>= 0). (default: 0.0)\n",
      "standardization: whether to standardize the training features before fitting the model. (default: True)\n",
      "threshold: Threshold in binary classification prediction, in range [0, 1]. If threshold and thresholds are both set, they must match.e.g. if threshold is p, then thresholds must be equal to [1-p, p]. (default: 0.5)\n",
      "thresholds: Thresholds in multi-class classification to adjust the probability of predicting each class. Array must have length equal to the number of classes, with values > 0, excepting that at most one value may be 0. The class with largest value p/t is predicted, where p is the original probability of that class and t is the class's threshold. (undefined)\n",
      "tol: the convergence tolerance for iterative algorithms (>= 0). (default: 1e-06)\n",
      "upperBoundsOnCoefficients: The upper bounds on coefficients if fitting under bound constrained optimization. The bound matrix must be compatible with the shape (1, number of features) for binomial regression, or (number of classes, number of features) for multinomial regression. (undefined)\n",
      "upperBoundsOnIntercepts: The upper bounds on intercepts if fitting under bound constrained optimization. The bound vector size must be equal with 1 for binomial regression, or the number of classes for multinomial regression. (undefined)\n",
      "weightCol: weight column name. If this is not set or empty, we treat all instance weights as 1.0. (undefined)\n"
     ]
    }
   ],
   "source": [
    "print(lr.explainParams())"
   ]
  },
  {
   "cell_type": "code",
   "execution_count": 20,
   "id": "be4edfb5",
   "metadata": {},
   "outputs": [
    {
     "name": "stdout",
     "output_type": "stream",
     "text": [
      "0.9238095238095239\n",
      "0.7777777777777777\n"
     ]
    }
   ],
   "source": [
    "lr.setRegParam(0.1)\n",
    "fittedLR = lr.fit(train)\n",
    "print(evaluator.evaluate(fittedLR.transform(train)))\n",
    "print(evaluator.evaluate(fittedLR.transform(test)))"
   ]
  },
  {
   "cell_type": "code",
   "execution_count": null,
   "id": "2fc442a3",
   "metadata": {},
   "outputs": [
    {
     "name": "stdout",
     "output_type": "stream",
     "text": [
      "Train accuracy: 1.0\n",
      "Test accuracy: 0.9424413424413425\n"
     ]
    }
   ],
   "source": [
    "from pyspark.ml.feature import RFormula\n",
    "\n",
    "rf = RFormula(formula=\"species ~ . + sepal_length:sepal_width + petal_length:petal_width\")\n",
    "\n",
    "preparedDF = rf.fit(iris).transform(iris)\n",
    "\n",
    "train, test = preparedDF.randomSplit([0.7, 0.3])\n",
    "\n",
    "lr = LogisticRegression()\n",
    "fittedLR = lr.fit(train)\n",
    "\n",
    "print(\"Train accuracy:\", evaluator.evaluate(fittedLR.transform(train)))\n",
    "print(\"Test accuracy:\", evaluator.evaluate(fittedLR.transform(test)))"
   ]
  },
  {
   "cell_type": "code",
   "execution_count": 22,
   "id": "f702f9a1",
   "metadata": {},
   "outputs": [
    {
     "name": "stdout",
     "output_type": "stream",
     "text": [
      "0.9797979797979797\n",
      "0.9803408721814794\n"
     ]
    }
   ],
   "source": [
    "from pyspark.ml.pipeline import Pipeline\n",
    "pipeline = Pipeline(stages = [rf, lr])\n",
    "train, test = iris.randomSplit([.7, .3])\n",
    "model = pipeline.fit(train)\n",
    "print(evaluator.evaluate(model.transform(train)))\n",
    "print(evaluator.evaluate(model.transform(test)))"
   ]
  },
  {
   "cell_type": "code",
   "execution_count": 23,
   "id": "48d8086d",
   "metadata": {},
   "outputs": [
    {
     "data": {
      "text/plain": [
       "['sepal_length', 'sepal_width', 'petal_length', 'petal_width', 'species']"
      ]
     },
     "execution_count": 23,
     "metadata": {},
     "output_type": "execute_result"
    }
   ],
   "source": [
    "iris.columns"
   ]
  },
  {
   "cell_type": "code",
   "execution_count": 24,
   "id": "e29163c6",
   "metadata": {},
   "outputs": [],
   "source": [
    "from pyspark.ml.tuning import ParamGridBuilder\n",
    "rf0 = \"species ~ .\"\n",
    "rf1 = \"species ~ . ^ 2\"\n",
    "rf2 = \"species ~ . + sepal_length:sepal_width + petal_length:petal_width\"\n",
    "params = ParamGridBuilder().addGrid(rf.formula, [rf0, rf1, rf2]).addGrid(lr.regParam, [0, 0.1, 0.2]).build()"
   ]
  },
  {
   "cell_type": "code",
   "execution_count": 26,
   "id": "aea6d630",
   "metadata": {},
   "outputs": [
    {
     "data": {
      "text/plain": [
       "1.0"
      ]
     },
     "execution_count": 26,
     "metadata": {},
     "output_type": "execute_result"
    }
   ],
   "source": [
    "from pyspark.ml.tuning import CrossValidator\n",
    "cv = CrossValidator().setNumFolds(4).setEstimatorParamMaps(params).setEstimator(pipeline).setEvaluator(evaluator)\n",
    "model = cv.fit(train) # Fit 9 models and pick the best one\n",
    "evaluator.evaluate(model.transform(test))"
   ]
  },
  {
   "cell_type": "code",
   "execution_count": 27,
   "id": "32787737",
   "metadata": {},
   "outputs": [
    {
     "name": "stdout",
     "output_type": "stream",
     "text": [
      "beta: The beta value used in weightedFMeasure|fMeasureByLabel. Must be > 0. The default value is 1. (default: 1.0)\n",
      "eps: log-loss is undefined for p=0 or p=1, so probabilities are clipped to max(eps, min(1 - eps, p)). Must be in range (0, 0.5). The default value is 1e-15. (default: 1e-15)\n",
      "labelCol: label column name. (default: label, current: label)\n",
      "metricLabel: The class whose metric will be computed in truePositiveRateByLabel|falsePositiveRateByLabel|precisionByLabel|recallByLabel|fMeasureByLabel. Must be >= 0. The default value is 0. (default: 0.0)\n",
      "metricName: metric name in evaluation (f1|accuracy|weightedPrecision|weightedRecall|weightedTruePositiveRate| weightedFalsePositiveRate|weightedFMeasure|truePositiveRateByLabel| falsePositiveRateByLabel|precisionByLabel|recallByLabel|fMeasureByLabel| logLoss|hammingLoss) (default: f1)\n",
      "predictionCol: prediction column name. (default: prediction, current: prediction)\n",
      "probabilityCol: Column name for predicted class conditional probabilities. Note: Not all models output well-calibrated probability estimates! These probabilities should be treated as confidences, not precise probabilities. (default: probability)\n",
      "weightCol: weight column name. If this is not set or empty, we treat all instance weights as 1.0. (undefined)\n"
     ]
    }
   ],
   "source": [
    "print(evaluator.explainParams())"
   ]
  },
  {
   "cell_type": "code",
   "execution_count": 30,
   "id": "1ab3bf3d",
   "metadata": {},
   "outputs": [
    {
     "name": "stdout",
     "output_type": "stream",
     "text": [
      "aggregationDepth: suggested depth for treeAggregate (>= 2). (default: 2)\n",
      "elasticNetParam: the ElasticNet mixing parameter, in range [0, 1]. For alpha = 0, the penalty is an L2 penalty. For alpha = 1, it is an L1 penalty. (default: 0.0)\n",
      "family: The name of family which is a description of the label distribution to be used in the model. Supported options: auto, binomial, multinomial (default: auto)\n",
      "featuresCol: features column name. (default: features)\n",
      "fitIntercept: whether to fit an intercept term. (default: True)\n",
      "labelCol: label column name. (default: label)\n",
      "lowerBoundsOnCoefficients: The lower bounds on coefficients if fitting under bound constrained optimization. The bound matrix must be compatible with the shape (1, number of features) for binomial regression, or (number of classes, number of features) for multinomial regression. (undefined)\n",
      "lowerBoundsOnIntercepts: The lower bounds on intercepts if fitting under bound constrained optimization. The bounds vector size must beequal with 1 for binomial regression, or the number oflasses for multinomial regression. (undefined)\n",
      "maxBlockSizeInMB: maximum memory in MB for stacking input data into blocks. Data is stacked within partitions. If more than remaining data size in a partition then it is adjusted to the data size. Default 0.0 represents choosing optimal value, depends on specific algorithm. Must be >= 0. (default: 0.0)\n",
      "maxIter: max number of iterations (>= 0). (default: 100)\n",
      "predictionCol: prediction column name. (default: prediction)\n",
      "probabilityCol: Column name for predicted class conditional probabilities. Note: Not all models output well-calibrated probability estimates! These probabilities should be treated as confidences, not precise probabilities. (default: probability)\n",
      "rawPredictionCol: raw prediction (a.k.a. confidence) column name. (default: rawPrediction)\n",
      "regParam: regularization parameter (>= 0). (default: 0.0, current: 0.1)\n",
      "standardization: whether to standardize the training features before fitting the model. (default: True)\n",
      "threshold: Threshold in binary classification prediction, in range [0, 1]. If threshold and thresholds are both set, they must match.e.g. if threshold is p, then thresholds must be equal to [1-p, p]. (default: 0.5)\n",
      "thresholds: Thresholds in multi-class classification to adjust the probability of predicting each class. Array must have length equal to the number of classes, with values > 0, excepting that at most one value may be 0. The class with largest value p/t is predicted, where p is the original probability of that class and t is the class's threshold. (undefined)\n",
      "tol: the convergence tolerance for iterative algorithms (>= 0). (default: 1e-06)\n",
      "upperBoundsOnCoefficients: The upper bounds on coefficients if fitting under bound constrained optimization. The bound matrix must be compatible with the shape (1, number of features) for binomial regression, or (number of classes, number of features) for multinomial regression. (undefined)\n",
      "upperBoundsOnIntercepts: The upper bounds on intercepts if fitting under bound constrained optimization. The bound vector size must be equal with 1 for binomial regression, or the number of classes for multinomial regression. (undefined)\n",
      "weightCol: weight column name. If this is not set or empty, we treat all instance weights as 1.0. (undefined)\n"
     ]
    }
   ],
   "source": [
    "print(model.bestModel.stages[1].explainParams())"
   ]
  },
  {
   "cell_type": "code",
   "execution_count": 32,
   "id": "d0dc6b3e",
   "metadata": {},
   "outputs": [
    {
     "data": {
      "text/plain": [
       "0.9803408721814794"
      ]
     },
     "execution_count": 32,
     "metadata": {},
     "output_type": "execute_result"
    }
   ],
   "source": [
    "from pyspark.ml.tuning import TrainValidationSplit\n",
    "tvs = TrainValidationSplit().setTrainRatio(0.7).setEstimatorParamMaps(params).setEstimator(pipeline).setEvaluator(evaluator)\n",
    "model = tvs.fit(train)\n",
    "evaluator.evaluate(model.transform(test))"
   ]
  },
  {
   "cell_type": "markdown",
   "id": "8b6db483",
   "metadata": {},
   "source": [
    "#### Artificial neural network"
   ]
  },
  {
   "cell_type": "code",
   "execution_count": 35,
   "id": "722860b3",
   "metadata": {},
   "outputs": [
    {
     "data": {
      "text/plain": [
       "0.9799819837854069"
      ]
     },
     "execution_count": 35,
     "metadata": {},
     "output_type": "execute_result"
    }
   ],
   "source": [
    "rf = RFormula(formula = \"species ~ .\")\n",
    "from pyspark.ml.classification import MultilayerPerceptronClassifier\n",
    "mlpc = MultilayerPerceptronClassifier(layers=[4,5,4,3])\n",
    "pipeline = Pipeline(stages = [rf, mlpc])\n",
    "train, test = iris.randomSplit([.7, .3])\n",
    "model = pipeline.fit(train)\n",
    "evaluator.evaluate(model.transform(iris))"
   ]
  }
 ],
 "metadata": {
  "kernelspec": {
   "display_name": "course",
   "language": "python",
   "name": "python3"
  },
  "language_info": {
   "codemirror_mode": {
    "name": "ipython",
    "version": 3
   },
   "file_extension": ".py",
   "mimetype": "text/x-python",
   "name": "python",
   "nbconvert_exporter": "python",
   "pygments_lexer": "ipython3",
   "version": "3.8.18"
  }
 },
 "nbformat": 4,
 "nbformat_minor": 5
}
